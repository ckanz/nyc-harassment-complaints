{
 "cells": [
  {
   "cell_type": "code",
   "execution_count": 1,
   "metadata": {
    "collapsed": false
   },
   "outputs": [
    {
     "name": "stderr",
     "output_type": "stream",
     "text": [
      "/Users/clemensanzmann/anaconda3/lib/python3.5/site-packages/ipykernel/__main__.py:10: UserWarning: Boolean Series key will be reindexed to match DataFrame index.\n"
     ]
    }
   ],
   "source": [
    "%matplotlib inline\n",
    "import pandas\n",
    "import matplotlib.pyplot as plt\n",
    "import matplotlib\n",
    "matplotlib.style.use('ggplot')\n",
    "\n",
    "fullData = pandas.read_csv('NYPD_Complaint_Data_Current_YTD.csv', sep=',')\n",
    "fullData['COUNT'] = 1\n",
    "harassmentData = fullData[fullData['PD_DESC'].str.contains(\"HARASSMENT\")==True]\n",
    "harassmentData = harassmentData[fullData['CMPLNT_FR_DT'].str.contains(\"2016\")==True]\n",
    "\n",
    "harassmentDataAgr = harassmentData.groupby(['CMPLNT_FR_DT','PD_DESC','LOC_OF_OCCUR_DESC','PREM_TYP_DESC'])['COUNT'].sum()\n",
    "harassmentDataAgr = pandas.DataFrame(harassmentDataAgr)"
   ]
  },
  {
   "cell_type": "code",
   "execution_count": null,
   "metadata": {
    "collapsed": false
   },
   "outputs": [],
   "source": [
    "harassmentDataAgr.plot(kind='bar')"
   ]
  },
  {
   "cell_type": "code",
   "execution_count": null,
   "metadata": {
    "collapsed": false
   },
   "outputs": [],
   "source": [
    "harassmentDataTS.plot()"
   ]
  }
 ],
 "metadata": {
  "anaconda-cloud": {},
  "kernelspec": {
   "display_name": "Python [Root]",
   "language": "python",
   "name": "Python [Root]"
  },
  "language_info": {
   "codemirror_mode": {
    "name": "ipython",
    "version": 3
   },
   "file_extension": ".py",
   "mimetype": "text/x-python",
   "name": "python",
   "nbconvert_exporter": "python",
   "pygments_lexer": "ipython3",
   "version": "3.5.1"
  }
 },
 "nbformat": 4,
 "nbformat_minor": 1
}
